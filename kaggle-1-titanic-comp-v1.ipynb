{
 "cells": [
  {
   "cell_type": "markdown",
   "id": "88e40cb2",
   "metadata": {
    "papermill": {
     "duration": 0.006872,
     "end_time": "2022-04-28T11:51:07.951255",
     "exception": false,
     "start_time": "2022-04-28T11:51:07.944383",
     "status": "completed"
    },
    "tags": []
   },
   "source": [
    "# Kaggle_1 Titanic comp_Version 1"
   ]
  },
  {
   "cell_type": "markdown",
   "id": "f1728867",
   "metadata": {
    "papermill": {
     "duration": 0.005138,
     "end_time": "2022-04-28T11:51:07.961933",
     "exception": false,
     "start_time": "2022-04-28T11:51:07.956795",
     "status": "completed"
    },
    "tags": []
   },
   "source": [
    "## Processing structure\n",
    "### Content structure\n",
    "  - statistical analysis\n",
    "  - EDA\n",
    "    - import data\n",
    "    - visualization\n",
    "    - data cleaning\n",
    "  - modeling evaluation optim\n",
    "  - predict"
   ]
  },
  {
   "cell_type": "markdown",
   "id": "2d5106f4",
   "metadata": {
    "papermill": {
     "duration": 0.004976,
     "end_time": "2022-04-28T11:51:07.972284",
     "exception": false,
     "start_time": "2022-04-28T11:51:07.967308",
     "status": "completed"
    },
    "tags": []
   },
   "source": [
    "### statistical analysis\n",
    " - goal: predict passagers suvival situation\n",
    "\n",
    "### EDA"
   ]
  },
  {
   "cell_type": "code",
   "execution_count": 1,
   "id": "1749478b",
   "metadata": {
    "execution": {
     "iopub.execute_input": "2022-04-28T11:51:07.987227Z",
     "iopub.status.busy": "2022-04-28T11:51:07.983920Z",
     "iopub.status.idle": "2022-04-28T11:51:09.183306Z",
     "shell.execute_reply": "2022-04-28T11:51:09.182357Z"
    },
    "papermill": {
     "duration": 1.208518,
     "end_time": "2022-04-28T11:51:09.185892",
     "exception": false,
     "start_time": "2022-04-28T11:51:07.977374",
     "status": "completed"
    },
    "tags": []
   },
   "outputs": [],
   "source": [
    "# import datasets\n",
    "import numpy as np\n",
    "import pandas as pd\n",
    "\n",
    "# data visualization\n",
    "import seaborn as sns\n",
    "%matplotlib inline\n",
    "from matplotlib import pyplot as plt\n",
    "from matplotlib import style\n",
    "\n",
    "train_df =pd.read_csv(r'../input/titanic/train.csv')\n",
    "test_df =pd.read_csv(r'../input/titanic/test.csv')"
   ]
  },
  {
   "cell_type": "code",
   "execution_count": null,
   "id": "445ee45c",
   "metadata": {
    "papermill": {
     "duration": 0.005504,
     "end_time": "2022-04-28T11:51:09.197148",
     "exception": false,
     "start_time": "2022-04-28T11:51:09.191644",
     "status": "completed"
    },
    "tags": []
   },
   "outputs": [],
   "source": []
  }
 ],
 "metadata": {
  "kernelspec": {
   "display_name": "Python 3",
   "language": "python",
   "name": "python3"
  },
  "language_info": {
   "codemirror_mode": {
    "name": "ipython",
    "version": 3
   },
   "file_extension": ".py",
   "mimetype": "text/x-python",
   "name": "python",
   "nbconvert_exporter": "python",
   "pygments_lexer": "ipython3",
   "version": "3.7.12"
  },
  "papermill": {
   "default_parameters": {},
   "duration": 12.337918,
   "end_time": "2022-04-28T11:51:09.925844",
   "environment_variables": {},
   "exception": null,
   "input_path": "__notebook__.ipynb",
   "output_path": "__notebook__.ipynb",
   "parameters": {},
   "start_time": "2022-04-28T11:50:57.587926",
   "version": "2.3.4"
  }
 },
 "nbformat": 4,
 "nbformat_minor": 5
}
